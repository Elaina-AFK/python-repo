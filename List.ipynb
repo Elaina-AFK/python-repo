{
 "cells": [
  {
   "cell_type": "markdown",
   "id": "ac96f66e",
   "metadata": {},
   "source": [
    "# Adding list member\n",
    ".append()"
   ]
  },
  {
   "cell_type": "code",
   "execution_count": 2,
   "id": "ac903761",
   "metadata": {
    "tags": []
   },
   "outputs": [
    {
     "name": "stdout",
     "output_type": "stream",
     "text": [
      "['Aom', 'Benon', 'Red', 'Green']\n"
     ]
    }
   ],
   "source": [
    "thisList = [\"Aom\", \"Benon\", \"Red\"]\n",
    "thisList.append(\"Green\")\n",
    "print(thisList)"
   ]
  },
  {
   "cell_type": "markdown",
   "id": "1f2e3fa5",
   "metadata": {},
   "source": [
    "# The difference of adding by using .append() and .extend()"
   ]
  },
  {
   "cell_type": "code",
   "execution_count": 3,
   "id": "b62bc114",
   "metadata": {},
   "outputs": [
    {
     "name": "stdout",
     "output_type": "stream",
     "text": [
      "['Aom', 'Benon', 'Red', 'Green', ('uwu', 'sus')]\n"
     ]
    }
   ],
   "source": [
    "thatTuple = (\"uwu\", \"sus\")\n",
    "thisList.append(thatTuple)\n",
    "print(thisList)"
   ]
  },
  {
   "cell_type": "code",
   "execution_count": 4,
   "id": "a6047c57",
   "metadata": {},
   "outputs": [
    {
     "name": "stdout",
     "output_type": "stream",
     "text": [
      "['Aom', 'Benon', 'Red', 'Green', ('uwu', 'sus'), 'uwu', 'sus']\n"
     ]
    }
   ],
   "source": [
    "thisList.extend(thatTuple)\n",
    "print(thisList)"
   ]
  },
  {
   "cell_type": "markdown",
   "id": "db9023f1",
   "metadata": {},
   "source": [
    "# removing member using .remove(member to remove)"
   ]
  },
  {
   "cell_type": "code",
   "execution_count": 5,
   "id": "56ba45e3",
   "metadata": {},
   "outputs": [
    {
     "name": "stdout",
     "output_type": "stream",
     "text": [
      "['Aom', 'Benon', 'Red', 'Green', 'uwu', 'sus']\n"
     ]
    }
   ],
   "source": [
    "thisList.remove(('uwu', 'sus'))\n",
    "print(thisList)"
   ]
  },
  {
   "cell_type": "markdown",
   "id": "8579e2ef",
   "metadata": {},
   "source": [
    "# remove using .pop(index)"
   ]
  },
  {
   "cell_type": "code",
   "execution_count": 6,
   "id": "4fc49e1c",
   "metadata": {},
   "outputs": [
    {
     "name": "stdout",
     "output_type": "stream",
     "text": [
      "['Aom', 'Benon', 'Red', 'uwu', 'sus']\n"
     ]
    }
   ],
   "source": [
    "thisList.pop(3) #index remove\n",
    "print(thisList)"
   ]
  },
  {
   "cell_type": "code",
   "execution_count": 7,
   "id": "c6069343",
   "metadata": {},
   "outputs": [
    {
     "name": "stdout",
     "output_type": "stream",
     "text": [
      "['Aom', 'Benon', 'Red', 'uwu']\n"
     ]
    }
   ],
   "source": [
    "thisList.pop() #last remove\n",
    "print(thisList)"
   ]
  },
  {
   "cell_type": "markdown",
   "id": "f75798c2",
   "metadata": {},
   "source": [
    "# remove using del keyword"
   ]
  },
  {
   "cell_type": "code",
   "execution_count": 8,
   "id": "03dd39a4",
   "metadata": {},
   "outputs": [
    {
     "name": "stdout",
     "output_type": "stream",
     "text": [
      "['Aom', 'Benon', 'Red']\n"
     ]
    }
   ],
   "source": [
    "del thisList[3] #index remove\n",
    "print(thisList)"
   ]
  },
  {
   "cell_type": "markdown",
   "id": "d3e50bb5",
   "metadata": {},
   "source": [
    "# remove all contents from list using .clear()"
   ]
  },
  {
   "cell_type": "code",
   "execution_count": 9,
   "id": "f403ec3a",
   "metadata": {},
   "outputs": [
    {
     "name": "stdout",
     "output_type": "stream",
     "text": [
      "[]\n"
     ]
    }
   ],
   "source": [
    "thisList.clear()\n",
    "print(thisList)"
   ]
  },
  {
   "cell_type": "markdown",
   "id": "90897fe1",
   "metadata": {},
   "source": [
    "# remove list entirely! -> del keyword"
   ]
  },
  {
   "cell_type": "code",
   "execution_count": 10,
   "id": "c3062ab1",
   "metadata": {},
   "outputs": [],
   "source": [
    "del thisList # no more"
   ]
  },
  {
   "cell_type": "markdown",
   "id": "a19b9a53",
   "metadata": {},
   "source": [
    "# LIST COMPREHENSION\n",
    "# newList = [expression for item in interable if condition == True]\n",
    "use for making new list from an existing list"
   ]
  },
  {
   "cell_type": "code",
   "execution_count": 11,
   "id": "a76b5c66",
   "metadata": {},
   "outputs": [
    {
     "name": "stdout",
     "output_type": "stream",
     "text": [
      "['Benon', 'Red']\n"
     ]
    }
   ],
   "source": [
    "newList = [\"Benon\", \"Red\", \"Aom\"]\n",
    "eList = [x for x in newList if \"e\" in x]\n",
    "print(eList)"
   ]
  },
  {
   "cell_type": "markdown",
   "id": "152e647f",
   "metadata": {},
   "source": [
    "# expression"
   ]
  },
  {
   "cell_type": "code",
   "execution_count": 12,
   "id": "7bef360a",
   "metadata": {},
   "outputs": [
    {
     "name": "stdout",
     "output_type": "stream",
     "text": [
      "['BENON', 'RED', 'AOM']\n"
     ]
    }
   ],
   "source": [
    "uList = [x.upper() for x in newList]\n",
    "print(uList)"
   ]
  },
  {
   "cell_type": "markdown",
   "id": "4c5397ea",
   "metadata": {},
   "source": [
    "# The expression can also contain conditions, not like a filter, but as a way to manipulate the outcome: \n",
    "เช่นเปลี่ยนบางค่า"
   ]
  },
  {
   "cell_type": "code",
   "execution_count": 13,
   "id": "0b28fbf7",
   "metadata": {},
   "outputs": [
    {
     "name": "stdout",
     "output_type": "stream",
     "text": [
      "['Benon', 'Love', 'Aom']\n"
     ]
    }
   ],
   "source": [
    "lList = [x if x != \"Red\" else \"Love\" for x in newList] \n",
    "print(lList) # meaning print x if x != \"Red\" else print \"Love\"`"
   ]
  },
  {
   "cell_type": "markdown",
   "id": "87f6de26",
   "metadata": {},
   "source": [
    "# .sort() method\n",
    "alphabetic(A - z)/numeric(lowest - highest) <--default"
   ]
  },
  {
   "cell_type": "code",
   "execution_count": 14,
   "id": "9bb7d74f",
   "metadata": {},
   "outputs": [
    {
     "name": "stdout",
     "output_type": "stream",
     "text": [
      "['Aom', 'Benon', 'Red']\n"
     ]
    }
   ],
   "source": [
    "newList.sort()\n",
    "print(newList)"
   ]
  },
  {
   "cell_type": "code",
   "execution_count": 15,
   "id": "8790578a",
   "metadata": {},
   "outputs": [
    {
     "name": "stdout",
     "output_type": "stream",
     "text": [
      "[4, 7, 14, 21]\n"
     ]
    }
   ],
   "source": [
    "num = [21, 14, 4, 7]\n",
    "num.sort()\n",
    "print(num)"
   ]
  },
  {
   "cell_type": "markdown",
   "id": "aabf202b",
   "metadata": {},
   "source": [
    "# reverse parameter\n",
    "if reverse = True --> (z - A),(highest - lowest)"
   ]
  },
  {
   "cell_type": "code",
   "execution_count": 16,
   "id": "7374b0c7",
   "metadata": {},
   "outputs": [
    {
     "name": "stdout",
     "output_type": "stream",
     "text": [
      "[21, 14, 7, 4]\n"
     ]
    }
   ],
   "source": [
    "num.sort(reverse= True)\n",
    "print(num)"
   ]
  },
  {
   "cell_type": "markdown",
   "id": "38b16a2c",
   "metadata": {},
   "source": [
    "# key parameter -> key = function\n",
    "(customize sort function) still sort from lowest to highest\n",
    "closest to 15 to furthest"
   ]
  },
  {
   "cell_type": "code",
   "execution_count": 17,
   "id": "132b4e26",
   "metadata": {},
   "outputs": [],
   "source": [
    "def clos(n):\n",
    "    return abs(n - 15)"
   ]
  },
  {
   "cell_type": "code",
   "execution_count": 18,
   "id": "7a8e3fb0",
   "metadata": {},
   "outputs": [
    {
     "name": "stdout",
     "output_type": "stream",
     "text": [
      "[14, 21, 7, 4]\n"
     ]
    }
   ],
   "source": [
    "num.sort(key= clos)\n",
    "print(num)"
   ]
  },
  {
   "cell_type": "markdown",
   "id": "a7df26e1",
   "metadata": {},
   "source": [
    "# normal sort is case sensitive caps to nocaps"
   ]
  },
  {
   "cell_type": "code",
   "execution_count": 19,
   "id": "59238bc1",
   "metadata": {},
   "outputs": [
    {
     "name": "stdout",
     "output_type": "stream",
     "text": [
      "['Aom', 'Benon', 'alot', 'cheers!', 'love']\n"
     ]
    }
   ],
   "source": [
    "name = [\"Benon\", \"love\", \"Aom\", \"alot\", \"cheers!\"]\n",
    "name.sort()\n",
    "print(name)"
   ]
  },
  {
   "cell_type": "markdown",
   "id": "d3d9c31f",
   "metadata": {},
   "source": [
    "# can use built-in function as key!"
   ]
  },
  {
   "cell_type": "code",
   "execution_count": 20,
   "id": "19c4b7bd",
   "metadata": {},
   "outputs": [
    {
     "name": "stdout",
     "output_type": "stream",
     "text": [
      "['alot', 'Aom', 'Benon', 'cheers!', 'love']\n"
     ]
    }
   ],
   "source": [
    "name.sort(key= str.lower)\n",
    "print(name)"
   ]
  },
  {
   "cell_type": "markdown",
   "id": "8fc4661a",
   "metadata": {},
   "source": [
    "# reverse without sorting"
   ]
  },
  {
   "cell_type": "code",
   "execution_count": 21,
   "id": "7819e5c2",
   "metadata": {},
   "outputs": [
    {
     "name": "stdout",
     "output_type": "stream",
     "text": [
      "['love', 'cheers!', 'Benon', 'Aom', 'alot']\n"
     ]
    }
   ],
   "source": [
    "name.reverse()\n",
    "print(name)"
   ]
  },
  {
   "cell_type": "markdown",
   "id": "21008073",
   "metadata": {},
   "source": [
    "# Copy a list by using .copy() [built-in list method]"
   ]
  },
  {
   "cell_type": "code",
   "execution_count": 22,
   "id": "812a1d72",
   "metadata": {},
   "outputs": [
    {
     "name": "stdout",
     "output_type": "stream",
     "text": [
      "['love', 'cheers!', 'Benon', 'Aom', 'alot']\n"
     ]
    }
   ],
   "source": [
    "name2 = name.copy()\n",
    "print(name2)"
   ]
  },
  {
   "cell_type": "markdown",
   "id": "51714946",
   "metadata": {},
   "source": [
    "# or Copy using list() [built-in function]"
   ]
  },
  {
   "cell_type": "code",
   "execution_count": 23,
   "id": "a916184e",
   "metadata": {},
   "outputs": [
    {
     "name": "stdout",
     "output_type": "stream",
     "text": [
      "['love', 'cheers!', 'Benon', 'Aom', 'alot']\n"
     ]
    }
   ],
   "source": [
    "name3 = list(name)\n",
    "print(name3)"
   ]
  },
  {
   "cell_type": "markdown",
   "id": "a379231a",
   "metadata": {},
   "source": [
    "# Join or concatenate Lists\n",
    "using + operator"
   ]
  },
  {
   "cell_type": "code",
   "execution_count": 24,
   "id": "470e778b",
   "metadata": {},
   "outputs": [
    {
     "name": "stdout",
     "output_type": "stream",
     "text": [
      "['a', 'b', 'c', 1, 2, 3]\n"
     ]
    }
   ],
   "source": [
    "list1 = [\"a\", \"b\", \"c\"]\n",
    "list2 = [1, 2, 3]\n",
    "list3 = list1 + list2\n",
    "print(list3)"
   ]
  },
  {
   "cell_type": "markdown",
   "id": "c88ff6aa",
   "metadata": {},
   "source": [
    "# or using .append() and .extend() \n",
    "the difference of .append() and .extend() can be shown in cell 2,3"
   ]
  }
 ],
 "metadata": {
  "kernelspec": {
   "display_name": "Python 3 (ipykernel)",
   "language": "python",
   "name": "python3"
  },
  "language_info": {
   "codemirror_mode": {
    "name": "ipython",
    "version": 3
   },
   "file_extension": ".py",
   "mimetype": "text/x-python",
   "name": "python",
   "nbconvert_exporter": "python",
   "pygments_lexer": "ipython3",
   "version": "3.9.12"
  }
 },
 "nbformat": 4,
 "nbformat_minor": 5
}
