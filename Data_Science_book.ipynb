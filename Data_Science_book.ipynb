{
  "nbformat": 4,
  "nbformat_minor": 0,
  "metadata": {
    "colab": {
      "provenance": [],
      "collapsed_sections": [],
      "authorship_tag": "ABX9TyNxFl36HjJ/xQ4uBtbqXQcR"
    },
    "kernelspec": {
      "name": "python3",
      "display_name": "Python 3"
    },
    "language_info": {
      "name": "python"
    }
  },
  "cells": [
    {
      "cell_type": "code",
      "source": [
        "users = [\n",
        "    {\"id\": 0, \"name\": \"Benon\"},\n",
        "    {\"id\": 1, \"name\": \"Aom\"},\n",
        "    {\"id\": 2, \"name\": \"Red\"},\n",
        "    {\"id\": 3, \"name\": \"Akkei\"},\n",
        "    {\"id\": 4, \"name\": \"AFK\"},\n",
        "    {\"id\": 5, \"name\": \"Bakpak\"},\n",
        "    {\"id\": 6, \"name\": \"DJWicked\"},\n",
        "    {\"id\": 7, \"name\": \"Nonoel\"},\n",
        "    {\"id\": 8, \"name\": \"Notspyo\"},\n",
        "    {\"id\": 9, \"name\": \"Ely\"}\n",
        "]\n",
        "friendship_pairs = [(0, 1),(0, 2),(1, 2),(1, 3),(2, 3),(3, 4),(4, 5),(5, 6),(5, 7),(6, 8),(7, 8),(8, 9)]\n",
        "# initialize a dict with empty list for each user id:\n",
        "friendships = {user[\"id\"]: [] for user in users}\n",
        "print(friendships)\n",
        "# and loop over the friendship pairs to populate it\n",
        "for i, j in friendship_pairs:\n",
        "  friendships[i].append(j)\n",
        "  friendships[j].append(i)\n",
        "print(friendships)"
      ],
      "metadata": {
        "id": "G7tL6nnBLipC",
        "colab": {
          "base_uri": "https://localhost:8080/"
        },
        "outputId": "afbc4d80-9cc3-4f9e-ee5c-196aaf64f38e"
      },
      "execution_count": 3,
      "outputs": [
        {
          "output_type": "stream",
          "name": "stdout",
          "text": [
            "{0: [], 1: [], 2: [], 3: [], 4: [], 5: [], 6: [], 7: [], 8: [], 9: []}\n",
            "{0: [1, 2], 1: [0, 2, 3], 2: [0, 1, 3], 3: [1, 2, 4], 4: [3, 5], 5: [4, 6, 7], 6: [5, 8], 7: [5, 8], 8: [6, 7, 9], 9: [8]}\n"
          ]
        }
      ]
    },
    {
      "cell_type": "code",
      "source": [
        "# How many friends does user have?\n",
        "def number_of_friends(user):\n",
        "  user_id = user[\"id\"]\n",
        "  friend_ids = friendships[user_id]\n",
        "  return len(friend_ids)\n",
        "\n",
        "# find average friends per user -> total/numberofusers\n",
        "total_connections = sum(number_of_friends(user) for user in users)\n",
        "print(total_connections)\n",
        "\n",
        "num_users = len(users)\n",
        "avg_connections = total_connections / num_users\n",
        "print(avg_connections)"
      ],
      "metadata": {
        "colab": {
          "base_uri": "https://localhost:8080/"
        },
        "id": "C-mpG7MgRvy_",
        "outputId": "a2a9a632-dd77-4b34-8e3c-7ecf01285c31"
      },
      "execution_count": 4,
      "outputs": [
        {
          "output_type": "stream",
          "name": "stdout",
          "text": [
            "24\n",
            "2.4\n"
          ]
        }
      ]
    },
    {
      "cell_type": "code",
      "source": [],
      "metadata": {
        "id": "gP8wnDu4XAcY"
      },
      "execution_count": null,
      "outputs": []
    }
  ]
}