{
  "cells": [
    {
      "cell_type": "markdown",
      "id": "7c57c4c5",
      "metadata": {
        "id": "7c57c4c5"
      },
      "source": [
        "# Set\n",
        "# unordered, unchangeable*, and unindexed.\n",
        "* but you can remove items and add new items.\n",
        "# Duplicates not allowed\n",
        "duplicate values will be ignored:"
      ]
    },
    {
      "cell_type": "code",
      "execution_count": null,
      "id": "d5696c4c",
      "metadata": {
        "id": "d5696c4c",
        "outputId": "9bff7d85-0ec3-4e0b-e225-465961b76e99"
      },
      "outputs": [
        {
          "name": "stdout",
          "output_type": "stream",
          "text": [
            "{'banana', 'cherry', 'apple'}\n",
            "<class 'set'>\n"
          ]
        }
      ],
      "source": [
        "thisset = {\"apple\", \"banana\", \"cherry\", \"apple\"}\n",
        "print(thisset)\n",
        "print(type(thisset))"
      ]
    },
    {
      "cell_type": "markdown",
      "id": "3e7653e7",
      "metadata": {
        "id": "3e7653e7"
      },
      "source": [
        "# **You cannot access items in set with index**"
      ]
    },
    {
      "cell_type": "markdown",
      "id": "251eb1d6",
      "metadata": {
        "id": "251eb1d6"
      },
      "source": [
        "# Add Items\n",
        ".add() method"
      ]
    },
    {
      "cell_type": "code",
      "execution_count": null,
      "id": "8bee552e",
      "metadata": {
        "id": "8bee552e",
        "outputId": "2d43afbd-6386-47d4-9a55-01c22565a999"
      },
      "outputs": [
        {
          "name": "stdout",
          "output_type": "stream",
          "text": [
            "{'banana', 'apple', 'orange', 'cherry'}\n"
          ]
        }
      ],
      "source": [
        "thisset = {\"apple\", \"banana\", \"cherry\"}\n",
        "thisset.add(\"orange\")\n",
        "print(thisset)"
      ]
    },
    {
      "cell_type": "markdown",
      "id": "21612bb3",
      "metadata": {
        "id": "21612bb3"
      },
      "source": [
        ".update() to add items from another set"
      ]
    },
    {
      "cell_type": "code",
      "execution_count": null,
      "id": "ffd22bf0",
      "metadata": {
        "id": "ffd22bf0",
        "outputId": "9d40a18c-f0a0-4df5-842f-33d7a8c89bf7"
      },
      "outputs": [
        {
          "name": "stdout",
          "output_type": "stream",
          "text": [
            "{'papaya', 'banana', 'pineapple', 'cherry', 'apple', 'mango'}\n"
          ]
        }
      ],
      "source": [
        "thisset = {\"apple\", \"banana\", \"cherry\"}\n",
        "tropical = {\"pineapple\", \"mango\", \"papaya\"}\n",
        "\n",
        "thisset.update(tropical)\n",
        "\n",
        "print(thisset)"
      ]
    },
    {
      "cell_type": "markdown",
      "source": [
        ".update() can use with any iterable (tuples, lists, etc.)"
      ],
      "metadata": {
        "id": "9c2b2fa3"
      },
      "id": "9c2b2fa3"
    },
    {
      "cell_type": "code",
      "execution_count": null,
      "id": "8a453d17",
      "metadata": {
        "id": "8a453d17",
        "outputId": "eebd74a2-915c-4d2d-d748-8516edbd760a"
      },
      "outputs": [
        {
          "name": "stdout",
          "output_type": "stream",
          "text": [
            "{'papaya', 'banana', 'pineapple', 'orange', 'cherry', 'apple', 'mango', 'kiwi'}\n"
          ]
        }
      ],
      "source": [
        "mylist = [\"kiwi\", \"orange\"]\n",
        "thisset.update(mylist)\n",
        "print(thisset)"
      ]
    },
    {
      "cell_type": "markdown",
      "source": [
        ".union() method **returns** a new set containing all items from both sets"
      ],
      "metadata": {
        "id": "cVvofvAEZSGu"
      },
      "id": "cVvofvAEZSGu"
    },
    {
      "cell_type": "code",
      "execution_count": null,
      "id": "4cfdecf1",
      "metadata": {
        "id": "4cfdecf1",
        "colab": {
          "base_uri": "https://localhost:8080/"
        },
        "outputId": "4b560f08-5cb6-404d-cf88-5406bd2165a5"
      },
      "outputs": [
        {
          "output_type": "stream",
          "name": "stdout",
          "text": [
            "{1, 2, 3, 'uwu', 'Fey', 'Benon'}\n"
          ]
        }
      ],
      "source": [
        "thisset = {'uwu', 'Fey', 'Benon'}\n",
        "thatset = {1, 2, 3}\n",
        "newset = thisset.union(thatset)\n",
        "print(newset)"
      ]
    },
    {
      "cell_type": "markdown",
      "source": [
        "# Keep Only Duplicates\n",
        ".intersection_update() method will keep the items that are present in both sets"
      ],
      "metadata": {
        "id": "W_CKeC3kb-lK"
      },
      "id": "W_CKeC3kb-lK"
    },
    {
      "cell_type": "code",
      "source": [
        "thisset = {'abc', 'def', 'tuv'}\n",
        "thatset = {'def', 'uwu', 'OwO'}\n",
        "thisset.intersection_update(thatset)\n",
        "print(thisset)"
      ],
      "metadata": {
        "colab": {
          "base_uri": "https://localhost:8080/"
        },
        "id": "W_hSCNc3b9Gh",
        "outputId": "60555efd-f9b9-4556-ad0b-68e574f2cb6d"
      },
      "id": "W_hSCNc3b9Gh",
      "execution_count": null,
      "outputs": [
        {
          "output_type": "stream",
          "name": "stdout",
          "text": [
            "{'def'}\n"
          ]
        }
      ]
    },
    {
      "cell_type": "markdown",
      "source": [
        ".intersection() method will **return** a new set containing duplicates"
      ],
      "metadata": {
        "id": "JBbc7AqHdBv1"
      },
      "id": "JBbc7AqHdBv1"
    },
    {
      "cell_type": "code",
      "source": [
        "thisset = {'abc', 'def', 'tuv'}\n",
        "thatset = {'def', 'uwu', 'OwO'}\n",
        "newset = thisset.intersection(thatset)\n",
        "print(newset)"
      ],
      "metadata": {
        "colab": {
          "base_uri": "https://localhost:8080/"
        },
        "id": "xdGxm4SRcxkZ",
        "outputId": "c74371a0-5c3b-420e-bfd8-6cf263b610b5"
      },
      "id": "xdGxm4SRcxkZ",
      "execution_count": null,
      "outputs": [
        {
          "output_type": "stream",
          "name": "stdout",
          "text": [
            "{'def'}\n"
          ]
        }
      ]
    },
    {
      "cell_type": "markdown",
      "source": [
        "# Keep all EXCEPT DUPLICATES\n",
        ".symmetric_difference_update() method will keep **only** the elements that are NOT present in both sets."
      ],
      "metadata": {
        "id": "I8US4yIgd2Zf"
      },
      "id": "I8US4yIgd2Zf"
    },
    {
      "cell_type": "code",
      "source": [
        "x = {\"apple\", \"banana\", \"cherry\"}\n",
        "y = {\"google\", \"microsoft\", \"apple\"}\n",
        "\n",
        "x.symmetric_difference_update(y)\n",
        "\n",
        "print(x) # no apple"
      ],
      "metadata": {
        "colab": {
          "base_uri": "https://localhost:8080/"
        },
        "id": "I1HxperkeRCi",
        "outputId": "f535615b-1216-4041-f1bf-84882a47bf0a"
      },
      "id": "I1HxperkeRCi",
      "execution_count": null,
      "outputs": [
        {
          "output_type": "stream",
          "name": "stdout",
          "text": [
            "{'banana', 'google', 'microsoft', 'cherry'}\n"
          ]
        }
      ]
    },
    {
      "cell_type": "markdown",
      "source": [
        ".symmetric_difference() method **return** a new set with all items except duplicates."
      ],
      "metadata": {
        "id": "meYjtvOoeeaY"
      },
      "id": "meYjtvOoeeaY"
    },
    {
      "cell_type": "code",
      "source": [
        "x = {\"apple\", \"banana\", \"cherry\"}\n",
        "y = {\"google\", \"microsoft\", \"apple\"}\n",
        "\n",
        "z = x.symmetric_difference(y)\n",
        "\n",
        "print(z) # no apple again"
      ],
      "metadata": {
        "colab": {
          "base_uri": "https://localhost:8080/"
        },
        "id": "GwN80E5_e1IT",
        "outputId": "d28509e8-c294-4266-a2f3-8ecdbd4bdea2"
      },
      "id": "GwN80E5_e1IT",
      "execution_count": null,
      "outputs": [
        {
          "output_type": "stream",
          "name": "stdout",
          "text": [
            "{'banana', 'cherry', 'microsoft', 'google'}\n"
          ]
        }
      ]
    },
    {
      "cell_type": "markdown",
      "source": [
        "# Remove Items from sets\n",
        "This method(.discard()) is different from the remove() method, because the remove() method will raise an error if the specified item does not exist, and the discard() method will not."
      ],
      "metadata": {
        "id": "0eqMj13Ffuwi"
      },
      "id": "0eqMj13Ffuwi"
    }
  ],
  "metadata": {
    "kernelspec": {
      "display_name": "Python 3 (ipykernel)",
      "language": "python",
      "name": "python3"
    },
    "language_info": {
      "codemirror_mode": {
        "name": "ipython",
        "version": 3
      },
      "file_extension": ".py",
      "mimetype": "text/x-python",
      "name": "python",
      "nbconvert_exporter": "python",
      "pygments_lexer": "ipython3",
      "version": "3.9.12"
    },
    "colab": {
      "provenance": []
    }
  },
  "nbformat": 4,
  "nbformat_minor": 5
}