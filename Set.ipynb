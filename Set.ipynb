{
 "cells": [
  {
   "cell_type": "markdown",
   "id": "7c57c4c5",
   "metadata": {},
   "source": [
    "# Set\n",
    "# unordered, unchangeable*, and unindexed.\n",
    "* but you can remove items and add new items.\n",
    "# Duplicates not allowed\n",
    "duplicate values will be ignored:"
   ]
  },
  {
   "cell_type": "code",
   "execution_count": 2,
   "id": "d5696c4c",
   "metadata": {},
   "outputs": [
    {
     "name": "stdout",
     "output_type": "stream",
     "text": [
      "{'banana', 'cherry', 'apple'}\n",
      "<class 'set'>\n"
     ]
    }
   ],
   "source": [
    "thisset = {\"apple\", \"banana\", \"cherry\", \"apple\"}\n",
    "print(thisset)\n",
    "print(type(thisset))"
   ]
  },
  {
   "cell_type": "markdown",
   "id": "3e7653e7",
   "metadata": {},
   "source": [
    "# **You cannot access items in set with index**"
   ]
  },
  {
   "cell_type": "markdown",
   "id": "251eb1d6",
   "metadata": {},
   "source": [
    "# Add Items\n",
    ".add() method"
   ]
  },
  {
   "cell_type": "code",
   "execution_count": 1,
   "id": "8bee552e",
   "metadata": {},
   "outputs": [
    {
     "name": "stdout",
     "output_type": "stream",
     "text": [
      "{'banana', 'apple', 'orange', 'cherry'}\n"
     ]
    }
   ],
   "source": [
    "thisset = {\"apple\", \"banana\", \"cherry\"}\n",
    "thisset.add(\"orange\")\n",
    "print(thisset)"
   ]
  },
  {
   "cell_type": "markdown",
   "id": "21612bb3",
   "metadata": {},
   "source": [
    ".update() to add items from another set"
   ]
  },
  {
   "cell_type": "code",
   "execution_count": 2,
   "id": "ffd22bf0",
   "metadata": {},
   "outputs": [
    {
     "name": "stdout",
     "output_type": "stream",
     "text": [
      "{'papaya', 'banana', 'pineapple', 'cherry', 'apple', 'mango'}\n"
     ]
    }
   ],
   "source": [
    "thisset = {\"apple\", \"banana\", \"cherry\"}\n",
    "tropical = {\"pineapple\", \"mango\", \"papaya\"}\n",
    "\n",
    "thisset.update(tropical)\n",
    "\n",
    "print(thisset)"
   ]
  },
  {
   "cell_type": "raw",
   "id": "9c2b2fa3",
   "metadata": {},
   "source": [
    ".update() can use with any iterable (tuples, lists, etc.)"
   ]
  },
  {
   "cell_type": "code",
   "execution_count": 3,
   "id": "8a453d17",
   "metadata": {},
   "outputs": [
    {
     "name": "stdout",
     "output_type": "stream",
     "text": [
      "{'papaya', 'banana', 'pineapple', 'orange', 'cherry', 'apple', 'mango', 'kiwi'}\n"
     ]
    }
   ],
   "source": [
    "mylist = [\"kiwi\", \"orange\"]\n",
    "thisset.update(mylist)\n",
    "print(thisset)"
   ]
  },
  {
   "cell_type": "code",
   "execution_count": null,
   "id": "4cfdecf1",
   "metadata": {},
   "outputs": [],
   "source": []
  }
 ],
 "metadata": {
  "kernelspec": {
   "display_name": "Python 3 (ipykernel)",
   "language": "python",
   "name": "python3"
  },
  "language_info": {
   "codemirror_mode": {
    "name": "ipython",
    "version": 3
   },
   "file_extension": ".py",
   "mimetype": "text/x-python",
   "name": "python",
   "nbconvert_exporter": "python",
   "pygments_lexer": "ipython3",
   "version": "3.9.12"
  }
 },
 "nbformat": 4,
 "nbformat_minor": 5
}
