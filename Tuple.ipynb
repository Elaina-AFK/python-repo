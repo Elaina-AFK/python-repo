{
 "cells": [
  {
   "cell_type": "markdown",
   "id": "d10e8fdc",
   "metadata": {},
   "source": [
    "# Tuples"
   ]
  },
  {
   "cell_type": "raw",
   "id": "d138c8ce",
   "metadata": {},
   "source": [
    "Tuple with 1 item. --> need to have , at the end"
   ]
  },
  {
   "cell_type": "code",
   "execution_count": 1,
   "id": "b5094fbe",
   "metadata": {},
   "outputs": [
    {
     "name": "stdout",
     "output_type": "stream",
     "text": [
      "<class 'tuple'>\n",
      "<class 'str'>\n"
     ]
    }
   ],
   "source": [
    "food = (\"hamburger\",)\n",
    "print(type(food))\n",
    "food = (\"hamburger\")\n",
    "print(type(food))"
   ]
  },
  {
   "cell_type": "markdown",
   "id": "2ad46908",
   "metadata": {},
   "source": [
    "# tuple() constructor"
   ]
  },
  {
   "cell_type": "code",
   "execution_count": 2,
   "id": "c26da029",
   "metadata": {},
   "outputs": [
    {
     "name": "stdout",
     "output_type": "stream",
     "text": [
      "<class 'tuple'>\n"
     ]
    }
   ],
   "source": [
    "food = tuple((\"hamburger\", \"rice\", \"sushi\")) # note the double round-brackets\n",
    "print(type(food))"
   ]
  },
  {
   "cell_type": "markdown",
   "id": "b910d67b",
   "metadata": {},
   "source": [
    "# Change tuple values\n",
    "you can't change it values. Tuples are **unchangable**(immutable).\n",
    "but there is a workaround."
   ]
  },
  {
   "cell_type": "code",
   "execution_count": 3,
   "id": "cec471cc",
   "metadata": {},
   "outputs": [
    {
     "name": "stdout",
     "output_type": "stream",
     "text": [
      "('apple', 'kiwi', 'cherry')\n"
     ]
    }
   ],
   "source": [
    "x = (\"apple\", \"banana\", \"cherry\")\n",
    "y = list(x)\n",
    "y[1] = \"kiwi\"\n",
    "x = tuple(y)\n",
    "\n",
    "print(x)"
   ]
  },
  {
   "cell_type": "markdown",
   "id": "22dad390",
   "metadata": {},
   "source": [
    "# Add items\n",
    "tuples is immutable -> do not have built-in append() method\n",
    "but there are other ways to add items to a tuple."
   ]
  },
  {
   "cell_type": "raw",
   "id": "0b96fe6d",
   "metadata": {},
   "source": [
    "1. Convert into a list as then convert back to tuple."
   ]
  },
  {
   "cell_type": "code",
   "execution_count": 4,
   "id": "2e0e75e7",
   "metadata": {},
   "outputs": [
    {
     "name": "stdout",
     "output_type": "stream",
     "text": [
      "('apple', 'banana', 'cherry', 'orange')\n"
     ]
    }
   ],
   "source": [
    "x = (\"apple\", \"banana\", \"cherry\")\n",
    "y = list(x)\n",
    "y.append(\"orange\")\n",
    "x = tuple(y)\n",
    "print(x)"
   ]
  },
  {
   "cell_type": "raw",
   "id": "9ded5709",
   "metadata": {},
   "source": [
    "2. Add tuple to a tuple."
   ]
  },
  {
   "cell_type": "code",
   "execution_count": 5,
   "id": "88406259",
   "metadata": {},
   "outputs": [
    {
     "name": "stdout",
     "output_type": "stream",
     "text": [
      "('apple', 'banana', 'cherry', 'orange')\n"
     ]
    }
   ],
   "source": [
    "x = (\"apple\", \"banana\", \"cherry\")\n",
    "y = (\"orange\",)\n",
    "x += y\n",
    "print(x)"
   ]
  },
  {
   "cell_type": "markdown",
   "id": "1a5c0a50",
   "metadata": {},
   "source": [
    "# Remove Items\n",
    "Tuples are unchangeable, so you can't remove items from it.\n",
    "But you can use the same workaround just like adding or changing tuple items above!"
   ]
  },
  {
   "cell_type": "code",
   "execution_count": 6,
   "id": "10f10cb8",
   "metadata": {},
   "outputs": [
    {
     "name": "stdout",
     "output_type": "stream",
     "text": [
      "('banana', 'cherry')\n"
     ]
    }
   ],
   "source": [
    "x = (\"apple\", \"banana\", \"cherry\")\n",
    "y = list(x)\n",
    "y.remove(\"apple\")\n",
    "x = tuple(y)\n",
    "print(x)"
   ]
  },
  {
   "cell_type": "markdown",
   "id": "18405a74",
   "metadata": {},
   "source": [
    "# del keyword can remove tuple completely"
   ]
  },
  {
   "cell_type": "code",
   "execution_count": 7,
   "id": "e412342f",
   "metadata": {},
   "outputs": [
    {
     "ename": "NameError",
     "evalue": "name 'x' is not defined",
     "output_type": "error",
     "traceback": [
      "\u001b[1;31m---------------------------------------------------------------------------\u001b[0m",
      "\u001b[1;31mNameError\u001b[0m                                 Traceback (most recent call last)",
      "Input \u001b[1;32mIn [7]\u001b[0m, in \u001b[0;36m<cell line: 3>\u001b[1;34m()\u001b[0m\n\u001b[0;32m      1\u001b[0m x \u001b[38;5;241m=\u001b[39m (\u001b[38;5;124m\"\u001b[39m\u001b[38;5;124mapple\u001b[39m\u001b[38;5;124m\"\u001b[39m, \u001b[38;5;124m\"\u001b[39m\u001b[38;5;124mbanana\u001b[39m\u001b[38;5;124m\"\u001b[39m, \u001b[38;5;124m\"\u001b[39m\u001b[38;5;124mcherry\u001b[39m\u001b[38;5;124m\"\u001b[39m)\n\u001b[0;32m      2\u001b[0m \u001b[38;5;28;01mdel\u001b[39;00m x\n\u001b[1;32m----> 3\u001b[0m \u001b[38;5;28mprint\u001b[39m(\u001b[43mx\u001b[49m)\n",
      "\u001b[1;31mNameError\u001b[0m: name 'x' is not defined"
     ]
    }
   ],
   "source": [
    "x = (\"apple\", \"banana\", \"cherry\")\n",
    "del x\n",
    "# print(x) #error cuz x no longer exists"
   ]
  },
  {
   "cell_type": "markdown",
   "id": "c9e02b2b",
   "metadata": {},
   "source": [
    "# Unpacking a Tuple\n",
    "when we create a tuple, we normally assign values to it. <-- called \"packing\" a tuple.\n",
    "In python, we are allowed to extract the values back into variables. <-- called \"unpacking\" a tuple."
   ]
  },
  {
   "cell_type": "code",
   "execution_count": 8,
   "id": "d653bda5",
   "metadata": {},
   "outputs": [
    {
     "name": "stdout",
     "output_type": "stream",
     "text": [
      "apple\n",
      "banana\n",
      "cherry\n"
     ]
    }
   ],
   "source": [
    "fruits = (\"apple\", \"banana\", \"cherry\")\n",
    "\n",
    "(green, yellow, red) = fruits\n",
    "\n",
    "print(green)\n",
    "print(yellow)\n",
    "print(red)\n",
    "# note: number of variables must match the number of values in tuple.\n",
    "# if not, you must use asterick to callect the remaining as a list."
   ]
  },
  {
   "cell_type": "markdown",
   "id": "316ece46",
   "metadata": {},
   "source": [
    "# Using Asterick *\n",
    "if number of variables is less than the number of values. you can add * to the variable name and the values will be assigned to the variable as list:"
   ]
  },
  {
   "cell_type": "code",
   "execution_count": 9,
   "id": "04c82a70",
   "metadata": {},
   "outputs": [
    {
     "name": "stdout",
     "output_type": "stream",
     "text": [
      "apple\n",
      "banana\n",
      "['cherry', 'strawberry', 'raspberry']\n"
     ]
    }
   ],
   "source": [
    "fruits = (\"apple\", \"banana\", \"cherry\", \"strawberry\", \"raspberry\")\n",
    "\n",
    "(green , yellow, *red) = fruits\n",
    "\n",
    "print(green)\n",
    "print(yellow)\n",
    "print(red)"
   ]
  },
  {
   "cell_type": "markdown",
   "id": "61f1d2cc",
   "metadata": {},
   "source": [
    "# If the asterick is not at the last, Python will assign value until it matches."
   ]
  },
  {
   "cell_type": "code",
   "execution_count": 1,
   "id": "563c163c",
   "metadata": {},
   "outputs": [
    {
     "name": "stdout",
     "output_type": "stream",
     "text": [
      "apple\n",
      "['mango', 'papaya', 'pineapple']\n",
      "cherry\n"
     ]
    }
   ],
   "source": [
    "fruits = (\"apple\", \"mango\", \"papaya\", \"pineapple\", \"cherry\")\n",
    "(green, *tropic, red) = fruits\n",
    "\n",
    "print(green)\n",
    "print(tropic)\n",
    "print(red)"
   ]
  },
  {
   "cell_type": "markdown",
   "id": "f6345721",
   "metadata": {},
   "source": [
    "# Join two Tuples\n",
    "+ operator"
   ]
  },
  {
   "cell_type": "code",
   "execution_count": 2,
   "id": "6eb25310",
   "metadata": {},
   "outputs": [
    {
     "name": "stdout",
     "output_type": "stream",
     "text": [
      "('a', 'b', 'c', 1, 2, 3)\n"
     ]
    }
   ],
   "source": [
    "tuple1 = (\"a\", \"b\", \"c\")\n",
    "tuple2 = (1, 2, 3)\n",
    "\n",
    "tuple3 = tuple1 + tuple2\n",
    "print(tuple3)"
   ]
  },
  {
   "cell_type": "markdown",
   "id": "5c71fdaf",
   "metadata": {},
   "source": [
    "# Multiply Tuples\n",
    "* operator"
   ]
  },
  {
   "cell_type": "code",
   "execution_count": 3,
   "id": "c8dbe415",
   "metadata": {},
   "outputs": [
    {
     "name": "stdout",
     "output_type": "stream",
     "text": [
      "('apple', 'banana', 'cherry', 'apple', 'banana', 'cherry')\n"
     ]
    }
   ],
   "source": [
    "fruits = (\"apple\", \"banana\", \"cherry\")\n",
    "mytuple =  fruits * 2\n",
    "\n",
    "print(mytuple)"
   ]
  }
 ],
 "metadata": {
  "kernelspec": {
   "display_name": "Python 3 (ipykernel)",
   "language": "python",
   "name": "python3"
  },
  "language_info": {
   "codemirror_mode": {
    "name": "ipython",
    "version": 3
   },
   "file_extension": ".py",
   "mimetype": "text/x-python",
   "name": "python",
   "nbconvert_exporter": "python",
   "pygments_lexer": "ipython3",
   "version": "3.9.12"
  }
 },
 "nbformat": 4,
 "nbformat_minor": 5
}
